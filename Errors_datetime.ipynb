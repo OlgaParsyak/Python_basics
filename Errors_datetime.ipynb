{
 "cells": [
  {
   "cell_type": "markdown",
   "id": "3e0ee61f",
   "metadata": {},
   "source": [
    "# Задание 1\n",
    "\n",
    "Печатные газеты использовали свой формат дат для каждого выпуска. Для каждой газеты из списка напишите формат указанной даты для перевода в объект datetime:\n",
    "\n",
    "- The Moscow Times - Wednesday, October 2, 2002\n",
    "- The Guardian - Friday, 11.10.13\n",
    "- Daily News - Thursday, 18 August 1977"
   ]
  },
  {
   "cell_type": "code",
   "execution_count": 1,
   "id": "53a8c46c",
   "metadata": {},
   "outputs": [],
   "source": [
    "from datetime import datetime"
   ]
  },
  {
   "cell_type": "code",
   "execution_count": 5,
   "id": "45f97275",
   "metadata": {},
   "outputs": [
    {
     "data": {
      "text/plain": [
       "datetime.datetime(2002, 10, 2, 0, 0)"
      ]
     },
     "execution_count": 5,
     "metadata": {},
     "output_type": "execute_result"
    }
   ],
   "source": [
    "# The Moscow Times\n",
    "datetime.strptime('Wednesday, October 2, 2002', '%A, %B %d, %Y')"
   ]
  },
  {
   "cell_type": "code",
   "execution_count": 7,
   "id": "976e53f5",
   "metadata": {},
   "outputs": [
    {
     "data": {
      "text/plain": [
       "datetime.datetime(2013, 10, 11, 0, 0)"
      ]
     },
     "execution_count": 7,
     "metadata": {},
     "output_type": "execute_result"
    }
   ],
   "source": [
    "# The Guardian\n",
    "The_Guardian = 'Friday, 11.10.13'\n",
    "datetime.strptime(The_Guardian, '%A, %d.%m.%y')"
   ]
  },
  {
   "cell_type": "code",
   "execution_count": 9,
   "id": "7bb40670",
   "metadata": {},
   "outputs": [
    {
     "data": {
      "text/plain": [
       "datetime.datetime(1977, 8, 18, 0, 0)"
      ]
     },
     "execution_count": 9,
     "metadata": {},
     "output_type": "execute_result"
    }
   ],
   "source": [
    "# Daily News\n",
    "Daily_News = 'Thursday, 18 August 1977'\n",
    "datetime.strptime(Daily_News, '%A, %d %B %Y')"
   ]
  },
  {
   "cell_type": "markdown",
   "id": "15506611",
   "metadata": {},
   "source": [
    "# Задание 2\n",
    "Дан поток дат в формате YYYY-MM-DD, в которых встречаются некорректные значения:\n",
    "stream = [‘2018-04-02’, ‘2018-02-29’, ‘2018-19-02’]\n",
    "\n",
    "Напишите функцию, которая проверяет эти даты на корректность. Т. е. для каждой даты возвращает True (дата корректна) или False (некорректная дата)."
   ]
  },
  {
   "cell_type": "code",
   "execution_count": 10,
   "id": "16681c00",
   "metadata": {},
   "outputs": [],
   "source": [
    "stream = ['2018-04-02', '2018-02-29', '2018-19-02']"
   ]
  },
  {
   "cell_type": "code",
   "execution_count": 23,
   "id": "acc39b4d",
   "metadata": {},
   "outputs": [
    {
     "name": "stdout",
     "output_type": "stream",
     "text": [
      "True\n",
      "False\n",
      "False\n"
     ]
    }
   ],
   "source": [
    "def check_date(stream):\n",
    "    for date in stream:\n",
    "        try:\n",
    "            valid_date = datetime.strptime(date, '%Y-%m-%d')\n",
    "            print(True)    \n",
    "        except ValueError:\n",
    "            print(False)\n",
    "\n",
    "check_date(stream)"
   ]
  },
  {
   "cell_type": "markdown",
   "id": "43dacf31",
   "metadata": {},
   "source": [
    "# Задание 3\n",
    "Напишите функцию date_range, которая возвращает список дат за период от start_date до end_date. Даты должны вводиться в формате YYYY-MM-DD. В случае неверного формата или при start_date > end_date должен возвращаться пустой список."
   ]
  },
  {
   "cell_type": "code",
   "execution_count": 22,
   "id": "fd43c226",
   "metadata": {},
   "outputs": [
    {
     "name": "stdout",
     "output_type": "stream",
     "text": [
      "Введите начальную дату в формате YYYY-MM-DD: 2021-03-03\n",
      "Введите дату окончания в формате YYYY-MM-DD: 2021-03-01\n"
     ]
    },
    {
     "data": {
      "text/plain": [
       "[]"
      ]
     },
     "execution_count": 22,
     "metadata": {},
     "output_type": "execute_result"
    }
   ],
   "source": [
    "from datetime import timedelta\n",
    "from datetime import datetime\n",
    "\n",
    "start_date = input('Введите начальную дату в формате YYYY-MM-DD: ')\n",
    "end_date = input('Введите дату окончания в формате YYYY-MM-DD: ')\n",
    "\n",
    "def date_range(start, end):\n",
    "    start_datetime = datetime.strptime(start, '%Y-%m-%d')\n",
    "    end_datetime = datetime.strptime(end, '%Y-%m-%d')\n",
    "    days = []\n",
    "    if start_datetime < end_datetime:\n",
    "        intermediate_datetime = start_datetime\n",
    "        while intermediate_datetime <= end_datetime:\n",
    "            intermediate_datetime = intermediate_datetime + timedelta(days=1)\n",
    "            print_datetime = datetime.strftime(intermediate_datetime,'%Y-%m-%d')\n",
    "            days.append(print_datetime)\n",
    "        #print(print_datetime)\n",
    "    return(days)\n",
    "\n",
    "date_range(start_date, end_date)"
   ]
  },
  {
   "cell_type": "code",
   "execution_count": null,
   "id": "6e7cdaa9",
   "metadata": {},
   "outputs": [],
   "source": []
  },
  {
   "cell_type": "code",
   "execution_count": null,
   "id": "487f8f5a",
   "metadata": {},
   "outputs": [],
   "source": []
  },
  {
   "cell_type": "code",
   "execution_count": null,
   "id": "a240f33e",
   "metadata": {},
   "outputs": [],
   "source": []
  }
 ],
 "metadata": {
  "kernelspec": {
   "display_name": "Python 3",
   "language": "python",
   "name": "python3"
  },
  "language_info": {
   "codemirror_mode": {
    "name": "ipython",
    "version": 3
   },
   "file_extension": ".py",
   "mimetype": "text/x-python",
   "name": "python",
   "nbconvert_exporter": "python",
   "pygments_lexer": "ipython3",
   "version": "3.8.8"
  }
 },
 "nbformat": 4,
 "nbformat_minor": 5
}
