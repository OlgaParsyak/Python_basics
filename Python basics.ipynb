{
 "cells": [
  {
   "cell_type": "code",
   "execution_count": 2,
   "id": "b1f1a417",
   "metadata": {},
   "outputs": [
    {
     "name": "stdout",
     "output_type": "stream",
     "text": [
      "Фраза 2 длиннее фразы 1\n"
     ]
    }
   ],
   "source": [
    "phrase_1 = '640Кб должно хватить для любых задач. Билл Гейтс (по легенде)'\n",
    "phrase_2 = 'Насколько проще было бы писать программы, если бы не заказчики'\n",
    "if phrase_1 > phrase_2:\n",
    "    print('Фраза 1 длиннее фразы 2')\n",
    "else:\n",
    "    print('Фраза 2 длиннее фразы 1')"
   ]
  },
  {
   "cell_type": "code",
   "execution_count": 3,
   "id": "782dcab8",
   "metadata": {},
   "outputs": [
    {
     "name": "stdout",
     "output_type": "stream",
     "text": [
      "Обычный год\n"
     ]
    }
   ],
   "source": [
    "year = 2021\n",
    "if year % 4 == 0:\n",
    "    print('Високосный год')\n",
    "else:\n",
    "    print('Обычный год')"
   ]
  },
  {
   "cell_type": "code",
   "execution_count": 4,
   "id": "1c65f8b5",
   "metadata": {
    "scrolled": true
   },
   "outputs": [
    {
     "name": "stdout",
     "output_type": "stream",
     "text": [
      "Введите день 31\n",
      "Введите месяц Декабрь\n",
      "Ваш знак зодиака - Козерог\n"
     ]
    }
   ],
   "source": [
    "day = int(input('Введите день '))\n",
    "month = input('Введите месяц ')\n",
    "if month == 'Январь' and day <= 19:\n",
    "    print('Ваш знак зодиака - Козерог')\n",
    "elif month == 'Январь' and day >= 20:\n",
    "    print('Ваш знак зодиака - Водолей')\n",
    "elif month == 'Февраль' and day <= 18:\n",
    "    print('Ваш знак зодиака - Водолей')\n",
    "elif month == 'Февраль' and day >= 19:\n",
    "    print('Ваш знак зодиака - Рыбы')\n",
    "elif month == 'Март' and day <= 20:\n",
    "    print('Ваш знак зодиака - Рыбы')\n",
    "elif month == 'Март' and day >= 21:\n",
    "    print('Ваш знак зодиака - Овен')\n",
    "elif month == 'Апрель' and day <= 19:\n",
    "    print('Ваш знак зодиака - Овен')\n",
    "elif month == 'Апрель' and day >= 21:\n",
    "    print('Ваш знак зодиака - Телец')\n",
    "elif month == 'Май' and day <= 20:\n",
    "    print('Ваш знак зодиака - Телец')\n",
    "elif month == 'Май' and day >= 21:\n",
    "    print('Ваш знак зодиака - Близнецы')\n",
    "elif month == 'Июнь' and day <= 20:\n",
    "    print('Ваш знак зодиака - Близнецы')\n",
    "elif month == 'Июнь' and day >= 21:\n",
    "    print('Ваш знак зодиака - Рак')\n",
    "elif month == 'Июль' and day <= 22:\n",
    "    print('Ваш знак зодиака - Рак')\n",
    "elif month == 'Июль' and day >= 23:\n",
    "    print('Ваш знак зодиака - Лев')\n",
    "elif month == 'Август' and day <= 22:\n",
    "    print('Ваш знак зодиака - Лев')  \n",
    "elif month == 'Август' and day >= 23:\n",
    "    print('Ваш знак зодиака - Дева')\n",
    "elif month == 'Сентябрь' and day <= 22:\n",
    "    print('Ваш знак зодиака - Дева')\n",
    "elif month == 'Сентябрь' and day >= 23:\n",
    "    print('Ваш знак зодиака - Весы')\n",
    "elif month == 'Октябрь' and day <= 22:\n",
    "    print('Ваш знак зодиака - Весы')\n",
    "elif month == 'Октябрь' and day >= 23:\n",
    "    print('Ваш знак зодиака - Скорпион')\n",
    "elif month == 'Ноябрь' and day <= 21:\n",
    "    print('Ваш знак зодиака - Скорпион')\n",
    "elif month == 'Ноябрь' and day >= 22:\n",
    "    print('Ваш знак зодиака - Стрелец')\n",
    "elif month == 'Декабрь' and day <= 21:\n",
    "    print('Ваш знак зодиака - Стрелец')\n",
    "elif month == 'Декабрь' and day >= 22:\n",
    "    print('Ваш знак зодиака - Козерог')"
   ]
  },
  {
   "cell_type": "code",
   "execution_count": 7,
   "id": "af2a18c4",
   "metadata": {},
   "outputs": [
    {
     "name": "stdout",
     "output_type": "stream",
     "text": [
      "Стандартная коробка №3\n"
     ]
    }
   ],
   "source": [
    "width = 12\n",
    "length = 53\n",
    "height = 11\n",
    "if width < 15 and length < 15 and height < 15:\n",
    "    print('Коробка №1')\n",
    "elif 15 < width < 50 or 15 < length < 50 or 15 < height < 50:\n",
    "    print('Коробка №2')\n",
    "elif length >= 200:\n",
    "    print('Упаковка для лыж')\n",
    "else:\n",
    "    print('Стандартная коробка №3')"
   ]
  }
 ],
 "metadata": {
  "kernelspec": {
   "display_name": "Python 3",
   "language": "python",
   "name": "python3"
  },
  "language_info": {
   "codemirror_mode": {
    "name": "ipython",
    "version": 3
   },
   "file_extension": ".py",
   "mimetype": "text/x-python",
   "name": "python",
   "nbconvert_exporter": "python",
   "pygments_lexer": "ipython3",
   "version": "3.8.8"
  }
 },
 "nbformat": 4,
 "nbformat_minor": 5
}
