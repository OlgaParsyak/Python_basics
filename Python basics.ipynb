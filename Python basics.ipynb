{
 "cells": [
  {
   "cell_type": "code",
   "execution_count": 9,
   "id": "b1f1a417",
   "metadata": {},
   "outputs": [
    {
     "name": "stdout",
     "output_type": "stream",
     "text": [
      "Фраза 2 длиннее фразы 1\n"
     ]
    }
   ],
   "source": [
    "phrase_1 = '640Кб должно хватить для любых задач. Билл Гейтс (по легенде)'\n",
    "phrase_2 = 'Насколько проще было бы писать программы, если бы не заказчики'\n",
    "\n",
    "if len(phrase_1) > len(phrase_2):\n",
    "    print('Фраза 1 длиннее фразы 2')\n",
    "elif len(phrase_1) < len(phrase_2):\n",
    "    print('Фраза 2 длиннее фразы 1')\n",
    "else:\n",
    "    print('Фраза 1 равна фразе 2')"
   ]
  },
  {
   "cell_type": "code",
   "execution_count": 20,
   "id": "782dcab8",
   "metadata": {},
   "outputs": [
    {
     "name": "stdout",
     "output_type": "stream",
     "text": [
      "Високосный год\n"
     ]
    }
   ],
   "source": [
    "year = 2020\n",
    "\n",
    "if (year % 4 == 0) and (year % 100 != 0) or (year % 400 == 0):\n",
    "    print('Високосный год')\n",
    "else:\n",
    "    print('Обычный год')"
   ]
  },
  {
   "cell_type": "code",
   "execution_count": 20,
   "id": "1c65f8b5",
   "metadata": {
    "scrolled": true
   },
   "outputs": [
    {
     "name": "stdout",
     "output_type": "stream",
     "text": [
      "Введите день 26\n",
      "Введите месяц Март\n",
      "Ваш знак зодиака - Овен\n"
     ]
    }
   ],
   "source": [
    "day = int(input('Введите день '))\n",
    "month = input('Введите месяц ')\n",
    "if (month == 'Январь' and day <= 19) or (month == 'Декабрь' and day >= 22):\n",
    "    print('Ваш знак зодиака - Козерог')\n",
    "elif (month == 'Январь' and day >= 20) or (month == 'Февраль' and day <= 18):\n",
    "    print('Ваш знак зодиака - Водолей')\n",
    "elif (month == 'Февраль' and day >= 19) or (month == 'Март' and day <= 20):\n",
    "    print('Ваш знак зодиака - Рыбы')\n",
    "elif (month == 'Март' and day >= 21) or (month == 'Апрель' and day <= 19):\n",
    "    print('Ваш знак зодиака - Овен')\n",
    "elif (month == 'Апрель' and day >= 21) or (month == 'Май' and day <= 20):\n",
    "    print('Ваш знак зодиака - Телец')\n",
    "elif (month == 'Май' and day >= 21) or (month == 'Июнь' and day <= 20):\n",
    "    print('Ваш знак зодиака - Близнецы')\n",
    "elif (month == 'Июнь' and day >= 21) or (month == 'Июль' and day <= 22):\n",
    "    print('Ваш знак зодиака - Рак')\n",
    "elif (month == 'Июль' and day >= 23) or (month == 'Август' and day <= 22):\n",
    "    print('Ваш знак зодиака - Лев') \n",
    "elif (month == 'Август' and day >= 23) or (month == 'Сентябрь' and day <= 22):\n",
    "    print('Ваш знак зодиака - Дева')\n",
    "elif (month == 'Сентябрь' and day >= 23) or (month == 'Октябрь' and day <= 22):\n",
    "    print('Ваш знак зодиака - Весы')\n",
    "elif (month == 'Октябрь' and day >= 23) or (month == 'Ноябрь' and day <= 21):\n",
    "    print('Ваш знак зодиака - Скорпион')\n",
    "elif (month == 'Ноябрь' and day >= 22) or (month == 'Декабрь' and day <= 21):\n",
    "    print('Ваш знак зодиака - Стрелец')"
   ]
  },
  {
   "cell_type": "code",
   "execution_count": 53,
   "id": "af2a18c4",
   "metadata": {},
   "outputs": [
    {
     "name": "stdout",
     "output_type": "stream",
     "text": [
      "Коробка №2\n"
     ]
    }
   ],
   "source": [
    "length = 19\n",
    "width = 35\n",
    "height = 47\n",
    "\n",
    "if length >= 200:\n",
    "    print('Упаковка для лыж')\n",
    "elif width < 15 and length < 15 and height < 15:\n",
    "    print('Коробка №1')\n",
    "elif 15 < length < 50 and 15 < width < 50 and 15 < height < 50:\n",
    "    print('Коробка №2')\n",
    "else:\n",
    "    print('Стандартная коробка №3')"
   ]
  }
 ],
 "metadata": {
  "kernelspec": {
   "display_name": "Python 3",
   "language": "python",
   "name": "python3"
  },
  "language_info": {
   "codemirror_mode": {
    "name": "ipython",
    "version": 3
   },
   "file_extension": ".py",
   "mimetype": "text/x-python",
   "name": "python",
   "nbconvert_exporter": "python",
   "pygments_lexer": "ipython3",
   "version": "3.8.8"
  }
 },
 "nbformat": 4,
 "nbformat_minor": 5
}
