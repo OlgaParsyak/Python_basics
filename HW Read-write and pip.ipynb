{
 "cells": [
  {
   "cell_type": "markdown",
   "id": "6ab2fef0",
   "metadata": {},
   "source": [
    "### Переведите содержимое файла purchase_log.txt в словарь purchases вида: {‘1840e0b9d4’: ‘Продукты’, …}"
   ]
  },
  {
   "cell_type": "code",
   "execution_count": 33,
   "id": "060d7125",
   "metadata": {},
   "outputs": [],
   "source": [
    "import json"
   ]
  },
  {
   "cell_type": "code",
   "execution_count": 143,
   "id": "e8cce0ea",
   "metadata": {},
   "outputs": [
    {
     "name": "stdout",
     "output_type": "stream",
     "text": [
      "{'user_id': 'category'}\n"
     ]
    }
   ],
   "source": [
    "purchases = {}\n",
    "\n",
    "with open('purchase_log.txt', 'r', encoding='utf-8') as f:\n",
    "    for line in f:\n",
    "        line = line.strip()\n",
    "        dict_ = json.loads(line)\n",
    "        purchases[dict_['user_id']] = dict_['category']\n",
    "        print(purchases)\n",
    "        break\n",
    "f.close()"
   ]
  },
  {
   "cell_type": "markdown",
   "id": "c314c158",
   "metadata": {},
   "source": [
    "### Для каждого user_id в файле visit_log.csv определите третий столбец с категорией покупки (если покупка была, сам файл visit_log.csv изменять не надо). Запишите в файл funnel.csv визиты из файла visit_log.csv, в которых были покупки с указанием категории.\n",
    "\n",
    "Учтите условия на данные:\n",
    "- содержимое purchase_log.txt помещается в оперативную память компьютера\n",
    "- содержимое visit_log.csv - нет; используйте только построчную обработку этого файла"
   ]
  },
  {
   "cell_type": "code",
   "execution_count": 158,
   "id": "687c26ea",
   "metadata": {},
   "outputs": [],
   "source": [
    "with open('visit_log.csv', 'r', encoding='utf-8') as visit:\n",
    "    next(visit)\n",
    "    with open('funnel.csv', \"w\") as funnel:\n",
    "        for line in visit:\n",
    "            line_ = line.strip().split(',')\n",
    "            category = purchases.get(line_[0])\n",
    "            if category != None:\n",
    "                line_.append(category)\n",
    "                new_line = ','.join(line_) + \"\\n\"\n",
    "                funnel.write(new_line)\n",
    "                    \n",
    "visit.close()\n",
    "funnel.close()"
   ]
  },
  {
   "cell_type": "code",
   "execution_count": null,
   "id": "1462b471",
   "metadata": {},
   "outputs": [],
   "source": []
  },
  {
   "cell_type": "code",
   "execution_count": null,
   "id": "167874e9",
   "metadata": {},
   "outputs": [],
   "source": []
  },
  {
   "cell_type": "code",
   "execution_count": null,
   "id": "e398efd4",
   "metadata": {},
   "outputs": [],
   "source": []
  },
  {
   "cell_type": "code",
   "execution_count": null,
   "id": "5667e788",
   "metadata": {},
   "outputs": [],
   "source": []
  }
 ],
 "metadata": {
  "kernelspec": {
   "display_name": "Python 3",
   "language": "python",
   "name": "python3"
  },
  "language_info": {
   "codemirror_mode": {
    "name": "ipython",
    "version": 3
   },
   "file_extension": ".py",
   "mimetype": "text/x-python",
   "name": "python",
   "nbconvert_exporter": "python",
   "pygments_lexer": "ipython3",
   "version": "3.8.8"
  }
 },
 "nbformat": 4,
 "nbformat_minor": 5
}
