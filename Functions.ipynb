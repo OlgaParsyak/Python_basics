{
 "cells": [
  {
   "cell_type": "code",
   "execution_count": 1,
   "id": "13b09e7b",
   "metadata": {},
   "outputs": [],
   "source": [
    "documents = [\n",
    "{'type': 'passport', 'number': '2207 876234', 'name': 'Василий Гупкин'},\n",
    "{'type': 'invoice', 'number': '11-2', 'name': 'Геннадий Покемонов'},\n",
    "{'type': 'insurance', 'number': '10006', 'name': 'Аристарх Павлов'}\n",
    "]\n",
    "\n",
    "directories = {\n",
    "'1': ['2207 876234', '11-2'],\n",
    "'2': ['10006'],\n",
    "'3': []\n",
    "}"
   ]
  },
  {
   "cell_type": "code",
   "execution_count": 13,
   "id": "5916c980",
   "metadata": {},
   "outputs": [
    {
     "data": {
      "text/plain": [
       "'Документ не найден в базе'"
      ]
     },
     "execution_count": 13,
     "metadata": {},
     "output_type": "execute_result"
    }
   ],
   "source": [
    "# Пункт 1. Пользователь по команде “p” может узнать владельца документа по его номеру\n",
    "\n",
    "def get_owner_doc(number):\n",
    "    res = 'Документ не найден в базе'\n",
    "    for document in documents:\n",
    "        if document['number'] == number:\n",
    "            res = 'Владелец документа: ' + document['name']\n",
    "    return (res)\n",
    "        \n",
    "get_owner_doc(documents)"
   ]
  },
  {
   "cell_type": "code",
   "execution_count": 19,
   "id": "fd4ca04b",
   "metadata": {
    "scrolled": false
   },
   "outputs": [
    {
     "data": {
      "text/plain": [
       "'Документ не найден в базе'"
      ]
     },
     "execution_count": 19,
     "metadata": {},
     "output_type": "execute_result"
    }
   ],
   "source": [
    "# Пункт 2. Пользователь по команде “s” может по номеру документа узнать на какой полке он хранится\n",
    "\n",
    "def get_shelf_number(number):\n",
    "    res = 'Документ не найден в базе'\n",
    "    for shelf in directories:\n",
    "        if number in directories[shelf]:\n",
    "            res = 'Документ хранится на полке:' + shelf\n",
    "    return res\n",
    "\n",
    "    \n",
    "get_shelf_number(directories)"
   ]
  },
  {
   "cell_type": "code",
   "execution_count": 26,
   "id": "9c3542d2",
   "metadata": {
    "scrolled": true
   },
   "outputs": [
    {
     "name": "stdout",
     "output_type": "stream",
     "text": [
      "№2207 876234, тип: passport, враделец: Василий Гупкин, полка: 1\n",
      "№11-2, тип: invoice, враделец: Геннадий Покемонов, полка: 1\n",
      "№10006, тип: insurance, враделец: Аристарх Павлов, полка: 2\n"
     ]
    }
   ],
   "source": [
    "# Пункт 3. Пользователь по команде “l” может увидеть полную информацию по всем документам \n",
    "\n",
    "def print_docs(documents, directories):\n",
    "    for shelf, content in directories.items():\n",
    "        for doc in documents:\n",
    "            if doc['number'] in content:\n",
    "                print(f\"№{doc['number']}, тип: {doc['type']}, враделец: {doc['name']}, полка: {shelf}\")\n",
    "    \n",
    "print_docs(documents, directories)"
   ]
  },
  {
   "cell_type": "code",
   "execution_count": 29,
   "id": "2c36d68c",
   "metadata": {},
   "outputs": [
    {
     "ename": "TypeError",
     "evalue": "unhashable type: 'dict'",
     "output_type": "error",
     "traceback": [
      "\u001b[1;31m---------------------------------------------------------------------------\u001b[0m",
      "\u001b[1;31mTypeError\u001b[0m                                 Traceback (most recent call last)",
      "\u001b[1;32m<ipython-input-29-0a8aedda1560>\u001b[0m in \u001b[0;36m<module>\u001b[1;34m\u001b[0m\n\u001b[0;32m      7\u001b[0m     \u001b[1;32mreturn\u001b[0m \u001b[1;34m'Полка добавлена. Текущий перечень полок:'\u001b[0m \u001b[1;33m+\u001b[0m \u001b[1;34m','\u001b[0m\u001b[1;33m.\u001b[0m\u001b[0mjoin\u001b[0m\u001b[1;33m(\u001b[0m\u001b[0mdirectories\u001b[0m\u001b[1;33m.\u001b[0m\u001b[0mkeys\u001b[0m\u001b[1;33m(\u001b[0m\u001b[1;33m)\u001b[0m\u001b[1;33m)\u001b[0m\u001b[1;33m\u001b[0m\u001b[1;33m\u001b[0m\u001b[0m\n\u001b[0;32m      8\u001b[0m \u001b[1;33m\u001b[0m\u001b[0m\n\u001b[1;32m----> 9\u001b[1;33m \u001b[0madd_shelf\u001b[0m\u001b[1;33m(\u001b[0m\u001b[0mdirectories\u001b[0m\u001b[1;33m)\u001b[0m\u001b[1;33m\u001b[0m\u001b[1;33m\u001b[0m\u001b[0m\n\u001b[0m",
      "\u001b[1;32m<ipython-input-29-0a8aedda1560>\u001b[0m in \u001b[0;36madd_shelf\u001b[1;34m(number)\u001b[0m\n\u001b[0;32m      2\u001b[0m \u001b[1;33m\u001b[0m\u001b[0m\n\u001b[0;32m      3\u001b[0m \u001b[1;32mdef\u001b[0m \u001b[0madd_shelf\u001b[0m\u001b[1;33m(\u001b[0m\u001b[0mnumber\u001b[0m\u001b[1;33m)\u001b[0m\u001b[1;33m:\u001b[0m\u001b[1;33m\u001b[0m\u001b[1;33m\u001b[0m\u001b[0m\n\u001b[1;32m----> 4\u001b[1;33m     \u001b[1;32mif\u001b[0m \u001b[0mnumber\u001b[0m \u001b[1;32min\u001b[0m \u001b[0mdirectories\u001b[0m\u001b[1;33m:\u001b[0m\u001b[1;33m\u001b[0m\u001b[1;33m\u001b[0m\u001b[0m\n\u001b[0m\u001b[0;32m      5\u001b[0m         \u001b[1;32mreturn\u001b[0m \u001b[1;34m'Такая полка уже существует. Текущий перечень полок:'\u001b[0m \u001b[1;33m+\u001b[0m \u001b[1;34m','\u001b[0m\u001b[1;33m.\u001b[0m\u001b[0mjoin\u001b[0m\u001b[1;33m(\u001b[0m\u001b[0mdirectories\u001b[0m\u001b[1;33m.\u001b[0m\u001b[0mkeys\u001b[0m\u001b[1;33m(\u001b[0m\u001b[1;33m)\u001b[0m\u001b[1;33m)\u001b[0m\u001b[1;33m\u001b[0m\u001b[1;33m\u001b[0m\u001b[0m\n\u001b[0;32m      6\u001b[0m     \u001b[0mdirectories\u001b[0m\u001b[1;33m[\u001b[0m\u001b[0mnumber\u001b[0m\u001b[1;33m]\u001b[0m \u001b[1;33m=\u001b[0m \u001b[1;33m[\u001b[0m\u001b[1;33m]\u001b[0m\u001b[1;33m\u001b[0m\u001b[1;33m\u001b[0m\u001b[0m\n",
      "\u001b[1;31mTypeError\u001b[0m: unhashable type: 'dict'"
     ]
    }
   ],
   "source": [
    "# Пункт 4. Пользователь по команде “as” может добавить новую полку\n",
    "\n",
    "def add_shelf(number):\n",
    "    if number in directories:\n",
    "        return 'Такая полка уже существует. Текущий перечень полок:' + ','.join(directories.keys())\n",
    "    directories[number] = []\n",
    "    return 'Полка добавлена. Текущий перечень полок:' + ','.join(directories.keys())\n",
    "\n",
    "add_shelf(directories)"
   ]
  },
  {
   "cell_type": "code",
   "execution_count": 31,
   "id": "38b71f5b",
   "metadata": {},
   "outputs": [
    {
     "ename": "TypeError",
     "evalue": "unhashable type: 'dict'",
     "output_type": "error",
     "traceback": [
      "\u001b[1;31m---------------------------------------------------------------------------\u001b[0m",
      "\u001b[1;31mTypeError\u001b[0m                                 Traceback (most recent call last)",
      "\u001b[1;32m<ipython-input-31-85ef9ae34d9c>\u001b[0m in \u001b[0;36m<module>\u001b[1;34m\u001b[0m\n\u001b[0;32m      9\u001b[0m         \u001b[0mprint\u001b[0m\u001b[1;33m(\u001b[0m\u001b[1;34m'Такой полки не существует. Текущий перечень полок:'\u001b[0m \u001b[1;33m+\u001b[0m \u001b[1;34m', '\u001b[0m\u001b[1;33m.\u001b[0m\u001b[0mjoin\u001b[0m\u001b[1;33m(\u001b[0m\u001b[0mdirectories\u001b[0m\u001b[1;33m.\u001b[0m\u001b[0mkeys\u001b[0m\u001b[1;33m(\u001b[0m\u001b[1;33m)\u001b[0m\u001b[1;33m)\u001b[0m\u001b[1;33m)\u001b[0m\u001b[1;33m\u001b[0m\u001b[1;33m\u001b[0m\u001b[0m\n\u001b[0;32m     10\u001b[0m \u001b[1;33m\u001b[0m\u001b[0m\n\u001b[1;32m---> 11\u001b[1;33m \u001b[0mdel_shelf\u001b[0m\u001b[1;33m(\u001b[0m\u001b[0mdirectories\u001b[0m\u001b[1;33m)\u001b[0m\u001b[1;33m\u001b[0m\u001b[1;33m\u001b[0m\u001b[0m\n\u001b[0m",
      "\u001b[1;32m<ipython-input-31-85ef9ae34d9c>\u001b[0m in \u001b[0;36mdel_shelf\u001b[1;34m(number)\u001b[0m\n\u001b[0;32m      2\u001b[0m \u001b[1;33m\u001b[0m\u001b[0m\n\u001b[0;32m      3\u001b[0m \u001b[1;32mdef\u001b[0m \u001b[0mdel_shelf\u001b[0m\u001b[1;33m(\u001b[0m\u001b[0mnumber\u001b[0m\u001b[1;33m)\u001b[0m\u001b[1;33m:\u001b[0m\u001b[1;33m\u001b[0m\u001b[1;33m\u001b[0m\u001b[0m\n\u001b[1;32m----> 4\u001b[1;33m     \u001b[1;32mif\u001b[0m \u001b[0mnumber\u001b[0m \u001b[1;32min\u001b[0m \u001b[0mdirectories\u001b[0m\u001b[1;33m:\u001b[0m\u001b[1;33m\u001b[0m\u001b[1;33m\u001b[0m\u001b[0m\n\u001b[0m\u001b[0;32m      5\u001b[0m         \u001b[1;32mif\u001b[0m \u001b[0mlen\u001b[0m\u001b[1;33m(\u001b[0m\u001b[0mdirectories\u001b[0m\u001b[1;33m[\u001b[0m\u001b[0mnumber\u001b[0m\u001b[1;33m]\u001b[0m\u001b[1;33m)\u001b[0m \u001b[1;33m>\u001b[0m \u001b[1;36m0\u001b[0m\u001b[1;33m:\u001b[0m\u001b[1;33m\u001b[0m\u001b[1;33m\u001b[0m\u001b[0m\n\u001b[0;32m      6\u001b[0m             \u001b[1;32mreturn\u001b[0m \u001b[1;34m'На полке есть документа, удалите их перед удалением полки. Текущий перечень полок: '\u001b[0m \u001b[1;33m+\u001b[0m \u001b[1;34m', '\u001b[0m\u001b[1;33m.\u001b[0m\u001b[0mjoin\u001b[0m\u001b[1;33m(\u001b[0m\u001b[0mdirectories\u001b[0m\u001b[1;33m.\u001b[0m\u001b[0mkeys\u001b[0m\u001b[1;33m(\u001b[0m\u001b[1;33m)\u001b[0m\u001b[1;33m)\u001b[0m\u001b[1;33m\u001b[0m\u001b[1;33m\u001b[0m\u001b[0m\n",
      "\u001b[1;31mTypeError\u001b[0m: unhashable type: 'dict'"
     ]
    }
   ],
   "source": [
    "# Пункт 5. Пользователь по команде “ds” может удалить существующую полку из данных (только если она пустая)\n",
    "\n",
    "def del_shelf(number):\n",
    "    if number in directories:\n",
    "        if len(directories[number]) > 0:\n",
    "            return 'На полке есть документа, удалите их перед удалением полки. Текущий перечень полок: ' + ', '.join(directories.keys())\n",
    "        del directories[number]\n",
    "        print('Полка удалена. Текущий перечень полок: ' + ', '.join(directories.keys()))\n",
    "        print('Такой полки не существует. Текущий перечень полок:' + ', '.join(directories.keys()))\n",
    "          \n",
    "del_shelf(directories)"
   ]
  },
  {
   "cell_type": "code",
   "execution_count": 32,
   "id": "1d6e30f1",
   "metadata": {
    "scrolled": true
   },
   "outputs": [
    {
     "name": "stdout",
     "output_type": "stream",
     "text": [
      "Введите команду ds\n",
      "Введите номер полки: 88\n",
      "Полка удалена. Текущий перечень полок: 1, 2, 3\n",
      "Такой полки не существует. Текущий перечень полок:1, 2, 3\n",
      "None\n",
      "Введите команду p\n",
      "Введите номер документа: 10006\n",
      "Владелец документа: Аристарх Павлов\n",
      "Введите команду p\n",
      "Введите номер документа: 444\n",
      "Документ не найден в базе\n",
      "Введите команду s\n",
      "Введите номер документа: 11-2\n",
      "Документ хранится на полке:1\n",
      "Введите команду s\n",
      "Введите номер документа: 788\n",
      "Документ не найден в базе\n",
      "Введите команду l\n",
      "№2207 876234, тип: passport, враделец: Василий Гупкин, полка: 1\n",
      "№11-2, тип: invoice, враделец: Геннадий Покемонов, полка: 1\n",
      "№10006, тип: insurance, враделец: Аристарх Павлов, полка: 2\n",
      "None\n",
      "Введите команду as\n",
      "Введите номер полки: 47\n",
      "Полка добавлена. Текущий перечень полок:1,2,3,47\n",
      "Введите команду q\n",
      "До свидания!\n"
     ]
    }
   ],
   "source": [
    "def main(documents, directories):\n",
    "    while True:\n",
    "        user_input = input('Введите команду ')\n",
    "        if user_input == 'p':\n",
    "            number = input(\"Введите номер документа: \")\n",
    "            print(get_owner_doc(number))\n",
    "        if user_input == 's':\n",
    "            number = input(\"Введите номер документа: \")\n",
    "            print(get_shelf_number(number))\n",
    "        if user_input == 'l':\n",
    "            print(print_docs(documents, directories))\n",
    "        if user_input == 'as':\n",
    "            number = input(\"Введите номер полки: \")\n",
    "            print(add_shelf(number))\n",
    "        elif user_input == 'ds':\n",
    "            number = input(\"Введите номер полки: \")\n",
    "            print(del_shelf(number))\n",
    "        elif user_input == 'q':\n",
    "            print('До свидания!')\n",
    "            break \n",
    "            \n",
    "main(documents, directories)"
   ]
  },
  {
   "cell_type": "code",
   "execution_count": null,
   "id": "a7fb35a7",
   "metadata": {},
   "outputs": [],
   "source": []
  },
  {
   "cell_type": "code",
   "execution_count": null,
   "id": "6f2c8c10",
   "metadata": {},
   "outputs": [],
   "source": []
  }
 ],
 "metadata": {
  "kernelspec": {
   "display_name": "Python 3",
   "language": "python",
   "name": "python3"
  },
  "language_info": {
   "codemirror_mode": {
    "name": "ipython",
    "version": 3
   },
   "file_extension": ".py",
   "mimetype": "text/x-python",
   "name": "python",
   "nbconvert_exporter": "python",
   "pygments_lexer": "ipython3",
   "version": "3.8.8"
  }
 },
 "nbformat": 4,
 "nbformat_minor": 5
}
